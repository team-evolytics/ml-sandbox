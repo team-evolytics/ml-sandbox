{
 "cells": [
  {
   "cell_type": "markdown",
   "metadata": {},
   "source": [
    "# average work hours"
   ]
  },
  {
   "cell_type": "markdown",
   "metadata": {},
   "source": [
    "Load the required libraries and specify a credentials file (downloaded from https://developers.google.com/calendar/quickstart/python) after enabling the api: "
   ]
  },
  {
   "cell_type": "code",
   "execution_count": 34,
   "metadata": {},
   "outputs": [],
   "source": [
    "import datetime\n",
    "from googleapiclient.discovery import build\n",
    "from httplib2 import Http\n",
    "from oauth2client import file, client, tools\n",
    "from dateutil import parser\n",
    "\n",
    "SCOPES = 'https://www.googleapis.com/auth/calendar.readonly'\n",
    "\n",
    "creds = 'credentials.json'"
   ]
  },
  {
   "cell_type": "markdown",
   "metadata": {},
   "source": [
    "This function uses the credentials file in the current directory to authenticate with the GCal API and build a calendar service that we can use to query events. "
   ]
  },
  {
   "cell_type": "code",
   "execution_count": 45,
   "metadata": {},
   "outputs": [],
   "source": [
    "def authenticate(credsfile):\n",
    "    token = file.Storage('token.json')\n",
    "    creds = token.get()\n",
    "    \n",
    "    if not creds or creds.invalid:\n",
    "        flow = client.flow_from_clientsecrets(credsfile, SCOPES)\n",
    "        creds = tools.run_flow(flow, store)\n",
    "    \n",
    "    service = build('calendar', 'v3', http=creds.authorize(Http()))\n",
    "    \n",
    "    return service "
   ]
  },
  {
   "cell_type": "code",
   "execution_count": 102,
   "metadata": {},
   "outputs": [],
   "source": [
    "service = authenticate(creds)\n",
    "query = 'entered work'\n",
    "query2 = 'exited work'"
   ]
  },
  {
   "cell_type": "markdown",
   "metadata": {},
   "source": [
    "Get the events created when I enter and exit work from the service"
   ]
  },
  {
   "cell_type": "code",
   "execution_count": 103,
   "metadata": {},
   "outputs": [],
   "source": [
    "enter_events = service.events().list(calendarId='primary', singleEvents='True', q=query).execute()\n",
    "exit_events = service.events().list(calendarId='primary', singleEvents='True',q=query2).execute()"
   ]
  },
  {
   "cell_type": "code",
   "execution_count": 105,
   "metadata": {},
   "outputs": [],
   "source": [
    "enter_results = enter_events.get('items', [])\n",
    "exit_results = exit_events.get('items', [])"
   ]
  },
  {
   "cell_type": "markdown",
   "metadata": {},
   "source": [
    "Convert the list of event objects to a list of datetime objects using dateutil"
   ]
  },
  {
   "cell_type": "code",
   "execution_count": 106,
   "metadata": {},
   "outputs": [],
   "source": [
    "def to_datetime_list(results):\n",
    "    l = []\n",
    "    for event in results:\n",
    "        start = event['start'].get('dateTime')\n",
    "        start = str(start)\n",
    "        start = parser.parse(start)\n",
    "        l.append(start)\n",
    "    return l"
   ]
  },
  {
   "cell_type": "markdown",
   "metadata": {},
   "source": [
    "Clean up duplicates, set output formatting (verified manually, need to add error checking).  "
   ]
  },
  {
   "cell_type": "code",
   "execution_count": 133,
   "metadata": {},
   "outputs": [
    {
     "name": "stdout",
     "output_type": "stream",
     "text": [
      "20\n",
      "19\n"
     ]
    }
   ],
   "source": [
    "entered = to_datetime_list(enter_results)\n",
    "exited = to_datetime_list(exit_results)\n",
    "\n",
    "del exited[2]\n",
    "del entered[9]\n",
    "\n",
    "formatting = '%I:%M %p %d'\n",
    "\n",
    "print(len(entered))\n",
    "print(len(exited))"
   ]
  },
  {
   "cell_type": "markdown",
   "metadata": {},
   "source": [
    "Iterate through exited and entered list and sum the total time spent at work, divide by number of days worked. "
   ]
  },
  {
   "cell_type": "code",
   "execution_count": 142,
   "metadata": {},
   "outputs": [
    {
     "name": "stdout",
     "output_type": "stream",
     "text": [
      "07:30 AM 26\n",
      "01:01 PM 26\n",
      "07:43 AM 27\n",
      "07:46 AM 28\n",
      "07:37 AM 31\n",
      "01:32 PM 31\n",
      "07:35 AM 02\n",
      "08:12 AM 03\n",
      "07:43 AM 04\n",
      "07:44 AM 07\n",
      "08:19 AM 08\n",
      "07:34 AM 09\n",
      "07:51 AM 10\n",
      "07:52 AM 11\n",
      "07:55 AM 14\n",
      "12:37 PM 14\n",
      "07:36 AM 15\n",
      "01:00 PM 15\n",
      "08:03 AM 16\n",
      "01:45 PM 16\n",
      " \n",
      "01:00 PM 26\n",
      "04:06 PM 26\n",
      "04:16 PM 27\n",
      "04:05 PM 28\n",
      "12:31 PM 31\n",
      "03:07 PM 31\n",
      "04:38 PM 02\n",
      "05:19 PM 03\n",
      "02:32 PM 04\n",
      "05:58 PM 07\n",
      "05:05 PM 08\n",
      "06:03 PM 09\n",
      "04:31 PM 10\n",
      "04:44 PM 11\n",
      "12:18 PM 14\n",
      "04:57 PM 14\n",
      "11:56 AM 15\n",
      "07:36 PM 15\n",
      "11:46 AM 16\n",
      " \n",
      "5:30:00\n",
      "3:05:00\n",
      "8:33:00\n",
      "8:19:00\n",
      "4:54:00\n",
      "1:35:00\n",
      "9:03:00\n",
      "9:07:00\n",
      "6:49:00\n",
      "10:14:00\n",
      "8:46:00\n",
      "10:29:00\n",
      "8:40:00\n",
      "8:52:00\n",
      "4:23:00\n",
      "4:20:00\n",
      "4:20:00\n",
      "6:36:00\n",
      "3:43:00\n",
      " \n",
      "8:29:12\n"
     ]
    }
   ],
   "source": [
    "total_time = datetime.timedelta()\n",
    "\n",
    "for time in entered: \n",
    "    print(time.strftime(formatting))\n",
    "print(\" \")\n",
    "for time in exited:\n",
    "    print(time.strftime(formatting))\n",
    "print(\" \")\n",
    "for i in range(len(exited)):\n",
    "    delta = exited[i]-entered[i]\n",
    "    total_time += delta\n",
    "    print(delta)\n",
    "print(\" \")\n",
    "print(total_time/15)"
   ]
  },
  {
   "cell_type": "code",
   "execution_count": 111,
   "metadata": {},
   "outputs": [
    {
     "data": {
      "text/plain": [
       "datetime.timedelta(days=-1, seconds=66600)"
      ]
     },
     "execution_count": 111,
     "metadata": {},
     "output_type": "execute_result"
    }
   ],
   "source": []
  },
  {
   "cell_type": "code",
   "execution_count": null,
   "metadata": {},
   "outputs": [],
   "source": []
  }
 ],
 "metadata": {
  "kernelspec": {
   "display_name": "Python 3",
   "language": "python",
   "name": "python3"
  },
  "language_info": {
   "codemirror_mode": {
    "name": "ipython",
    "version": 3
   },
   "file_extension": ".py",
   "mimetype": "text/x-python",
   "name": "python",
   "nbconvert_exporter": "python",
   "pygments_lexer": "ipython3",
   "version": "3.7.1"
  }
 },
 "nbformat": 4,
 "nbformat_minor": 2
}
