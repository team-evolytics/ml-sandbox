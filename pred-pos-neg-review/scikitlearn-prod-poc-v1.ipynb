{
 "cells": [
  {
   "cell_type": "markdown",
   "metadata": {},
   "source": [
    "#### Simple poc that:\n",
    "\n",
    "1. inputs labeled text (1=positive, 0=negative), source: uci ml repo\n",
    "2. vectorizes the text\n",
    "3. trains a naive bayes model\n",
    "4. serializes the model object\n",
    "5. outputs the model object\n",
    "6. inputs the model object\n",
    "7. makes some predictions using the serialized model"
   ]
  },
  {
   "cell_type": "code",
   "execution_count": 1,
   "metadata": {},
   "outputs": [
    {
     "data": {
      "text/plain": [
       "'/Users/tborgstadt/git/ml-sandbox/pred-pos-neg-review'"
      ]
     },
     "execution_count": 1,
     "metadata": {},
     "output_type": "execute_result"
    }
   ],
   "source": [
    "import os\n",
    "import pandas as pd\n",
    "import numpy as np\n",
    "\n",
    "from sklearn.model_selection import train_test_split\n",
    "from sklearn.feature_extraction.text import CountVectorizer, TfidfVectorizer\n",
    "from sklearn.naive_bayes import MultinomialNB\n",
    "from sklearn.metrics import classification_report\n",
    "\n",
    "pd.set_option('display.max_colwidth', -1)\n",
    "\n",
    "os.getcwd()"
   ]
  },
  {
   "cell_type": "code",
   "execution_count": 2,
   "metadata": {},
   "outputs": [
    {
     "data": {
      "text/html": [
       "<div>\n",
       "<style scoped>\n",
       "    .dataframe tbody tr th:only-of-type {\n",
       "        vertical-align: middle;\n",
       "    }\n",
       "\n",
       "    .dataframe tbody tr th {\n",
       "        vertical-align: top;\n",
       "    }\n",
       "\n",
       "    .dataframe thead th {\n",
       "        text-align: right;\n",
       "    }\n",
       "</style>\n",
       "<table border=\"1\" class=\"dataframe\">\n",
       "  <thead>\n",
       "    <tr style=\"text-align: right;\">\n",
       "      <th></th>\n",
       "      <th>lbl</th>\n",
       "      <th>text</th>\n",
       "    </tr>\n",
       "  </thead>\n",
       "  <tbody>\n",
       "    <tr>\n",
       "      <th>0</th>\n",
       "      <td>Neg</td>\n",
       "      <td>Not sure who was more lost - the flat characters or the audience, nearly half of whom walked out.</td>\n",
       "    </tr>\n",
       "    <tr>\n",
       "      <th>1</th>\n",
       "      <td>Neg</td>\n",
       "      <td>Attempting artiness with black &amp; white and clever camera angles, the movie disappointed - became even more ridiculous - as the acting was poor and the plot and lines almost non-existent.</td>\n",
       "    </tr>\n",
       "    <tr>\n",
       "      <th>2</th>\n",
       "      <td>Neg</td>\n",
       "      <td>Very little music or anything to speak of.</td>\n",
       "    </tr>\n",
       "    <tr>\n",
       "      <th>3</th>\n",
       "      <td>Pos</td>\n",
       "      <td>The best scene in the movie was when Gerardo is trying to find a song that keeps running through his head.</td>\n",
       "    </tr>\n",
       "    <tr>\n",
       "      <th>4</th>\n",
       "      <td>Neg</td>\n",
       "      <td>The rest of the movie lacks art, charm, meaning... If it's about emptiness, it works I guess because it's empty.</td>\n",
       "    </tr>\n",
       "  </tbody>\n",
       "</table>\n",
       "</div>"
      ],
      "text/plain": [
       "   lbl  \\\n",
       "0  Neg   \n",
       "1  Neg   \n",
       "2  Neg   \n",
       "3  Pos   \n",
       "4  Neg   \n",
       "\n",
       "                                                                                                                                                                                           text  \n",
       "0  Not sure who was more lost - the flat characters or the audience, nearly half of whom walked out.                                                                                             \n",
       "1  Attempting artiness with black & white and clever camera angles, the movie disappointed - became even more ridiculous - as the acting was poor and the plot and lines almost non-existent.    \n",
       "2  Very little music or anything to speak of.                                                                                                                                                    \n",
       "3  The best scene in the movie was when Gerardo is trying to find a song that keeps running through his head.                                                                                    \n",
       "4  The rest of the movie lacks art, charm, meaning... If it's about emptiness, it works I guess because it's empty.                                                                              "
      ]
     },
     "execution_count": 2,
     "metadata": {},
     "output_type": "execute_result"
    }
   ],
   "source": [
    "# input labeled data, imdb review comments\n",
    "df = pd.read_csv('imdb_labelled.txt', sep='\\t', lineterminator='\\n')\n",
    "df.columns = ['text', 'label']\n",
    "df['lbl'] = np.where(df['label']==0, \"Neg\", \"Pos\")\n",
    "df = df[['lbl','text']]\n",
    "df.head(5)"
   ]
  },
  {
   "cell_type": "code",
   "execution_count": 3,
   "metadata": {},
   "outputs": [
    {
     "name": "stdout",
     "output_type": "stream",
     "text": [
      "\n",
      "Pos    386\n",
      "Neg    361\n",
      "Name: lbl, dtype: int64\n",
      "\n",
      "0.76\n",
      "\n",
      "              precision    recall  f1-score   support\n",
      "\n",
      "         Neg       0.81      0.67      0.73       111\n",
      "         Pos       0.72      0.85      0.78       114\n",
      "\n",
      "   micro avg       0.76      0.76      0.76       225\n",
      "   macro avg       0.77      0.76      0.76       225\n",
      "weighted avg       0.77      0.76      0.76       225\n",
      "\n"
     ]
    }
   ],
   "source": [
    "# train model - create the model object for serializing\n",
    "print\n",
    "print df['lbl'].value_counts()\n",
    "\n",
    "X_train, X_test, y_train, y_test = train_test_split(df['text'], df['lbl'], test_size=0.3, random_state=42) #random_state is set seed\n",
    "\n",
    "tfidf_vect = TfidfVectorizer()\n",
    "X_train_count = tfidf_vect.fit_transform(X_train)\n",
    "\n",
    "model = MultinomialNB().fit(X_train_count, y_train)\n",
    "X_test_count = tfidf_vect.transform(X_test)\n",
    "\n",
    "print\n",
    "print model.score(X_test_count, y_test)\n",
    "print\n",
    "print(classification_report(y_test, model.predict(X_test_count)))"
   ]
  },
  {
   "cell_type": "code",
   "execution_count": 4,
   "metadata": {},
   "outputs": [
    {
     "name": "stdout",
     "output_type": "stream",
     "text": [
      "['Pos']\n"
     ]
    }
   ],
   "source": [
    "# use model to make a prediction\n",
    "print model.predict(tfidf_vect.transform([\"really funny and kid friendly\"]))"
   ]
  },
  {
   "cell_type": "code",
   "execution_count": 5,
   "metadata": {},
   "outputs": [
    {
     "name": "stdout",
     "output_type": "stream",
     "text": [
      "['Pos']\n"
     ]
    }
   ],
   "source": [
    "# again\n",
    "print model.predict(tfidf_vect.transform([\"sad and even creepy\"]))\n"
   ]
  },
  {
   "cell_type": "code",
   "execution_count": 6,
   "metadata": {},
   "outputs": [
    {
     "name": "stdout",
     "output_type": "stream",
     "text": [
      "['Neg']\n"
     ]
    }
   ],
   "source": [
    "# again\n",
    "print model.predict(tfidf_vect.transform([\"pathetic story line\"]))\n"
   ]
  },
  {
   "cell_type": "code",
   "execution_count": 7,
   "metadata": {},
   "outputs": [
    {
     "data": {
      "text/plain": [
       "['model.joblib']"
      ]
     },
     "execution_count": 7,
     "metadata": {},
     "output_type": "execute_result"
    }
   ],
   "source": [
    "# serialize the model\n",
    "from sklearn.externals import joblib\n",
    "joblib.dump(model, 'model.joblib')"
   ]
  },
  {
   "cell_type": "code",
   "execution_count": 8,
   "metadata": {},
   "outputs": [],
   "source": [
    "# load serialized model\n",
    "model_from_binary = joblib.load('model.joblib')"
   ]
  },
  {
   "cell_type": "code",
   "execution_count": 9,
   "metadata": {},
   "outputs": [
    {
     "name": "stdout",
     "output_type": "stream",
     "text": [
      "['Pos']\n"
     ]
    }
   ],
   "source": [
    "# make prediction with serialized model\n",
    "print model_from_binary.predict(tfidf_vect.transform([\"fun for the whole family \"]))"
   ]
  },
  {
   "cell_type": "code",
   "execution_count": null,
   "metadata": {},
   "outputs": [],
   "source": []
  }
 ],
 "metadata": {
  "kernelspec": {
   "display_name": "Python [conda env:full27]",
   "language": "python",
   "name": "conda-env-full27-py"
  },
  "language_info": {
   "codemirror_mode": {
    "name": "ipython",
    "version": 2
   },
   "file_extension": ".py",
   "mimetype": "text/x-python",
   "name": "python",
   "nbconvert_exporter": "python",
   "pygments_lexer": "ipython2",
   "version": "2.7.15"
  }
 },
 "nbformat": 4,
 "nbformat_minor": 1
}
