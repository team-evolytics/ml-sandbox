{
 "cells": [
  {
   "cell_type": "markdown",
   "metadata": {},
   "source": [
    "# event classification notebook"
   ]
  },
  {
   "cell_type": "markdown",
   "metadata": {},
   "source": [
    "This notebook is created in support of data science work at <a href=\"https://evolytics.com\">Evolytics</a>. \n",
    "\n",
    "Our goal is to extract event data from the Google Calendar API, clean the data, and use event description, summary, start time, and other features to classify an event as billable to a given client. "
   ]
  },
  {
   "cell_type": "code",
   "execution_count": 14,
   "metadata": {},
   "outputs": [],
   "source": [
    "import datetime\n",
    "from googleapiclient.discovery import build\n",
    "from httplib2 import Http\n",
    "from oauth2client import file, client, tools\n",
    "from dateutil import parser\n",
    "import pandas as pd\n",
    "\n",
    "SCOPES = 'https://www.googleapis.com/auth/calendar.readonly'\n",
    "\n",
    "creds = 'credentials.json'"
   ]
  },
  {
   "cell_type": "markdown",
   "metadata": {},
   "source": [
    "Authenticate against the Google API to generate a service that we'll use to pull event data:"
   ]
  },
  {
   "cell_type": "code",
   "execution_count": 3,
   "metadata": {},
   "outputs": [],
   "source": [
    "def authenticate(credsfile):\n",
    "    token = file.Storage('token.json')\n",
    "    creds = token.get()\n",
    "    \n",
    "    if not creds or creds.invalid:\n",
    "        flow = client.flow_from_clientsecrets(credsfile, SCOPES)\n",
    "        creds = tools.run_flow(flow, store)\n",
    "    \n",
    "    service = build('calendar', 'v3', http=creds.authorize(Http()))\n",
    "    \n",
    "    return service "
   ]
  },
  {
   "cell_type": "code",
   "execution_count": 6,
   "metadata": {},
   "outputs": [],
   "source": [
    "service = authenticate(creds)"
   ]
  },
  {
   "cell_type": "markdown",
   "metadata": {},
   "source": [
    "Query events related to Evolytics internal project, the \"data dojo\":"
   ]
  },
  {
   "cell_type": "code",
   "execution_count": null,
   "metadata": {},
   "outputs": [],
   "source": [
    "results = service.events().list(calendarId='primary',singleEvents=True,q='dojo').execute()"
   ]
  },
  {
   "cell_type": "code",
   "execution_count": 40,
   "metadata": {},
   "outputs": [],
   "source": [
    "events = results.get('items', [])"
   ]
  },
  {
   "cell_type": "markdown",
   "metadata": {},
   "source": [
    "Functions that extract emails from event, and create pandas dataframe from relevant event metadata:"
   ]
  },
  {
   "cell_type": "code",
   "execution_count": 106,
   "metadata": {},
   "outputs": [],
   "source": [
    "def get_emails(event):\n",
    "    l = []\n",
    "    a = event['attendees']\n",
    "    for attendee in a:\n",
    "        l.append(str(attendee['email']))\n",
    "    return str(l)\n",
    "\n",
    "\n",
    "def pandify(event):\n",
    "    Start = event['start'].get('dateTime')\n",
    "    Start = str(Start)\n",
    "    s = parser.parse(Start)\n",
    "    \n",
    "    End = event['end'].get('dateTime')\n",
    "    End = str(End)\n",
    "    e = parser.parse(End)\n",
    "    \n",
    "    try:\n",
    "        d = str(event['description'])\n",
    "    except KeyError:\n",
    "        d = None\n",
    "    \n",
    "    dictionary = {\n",
    "        \"id\" : str(event['id']),\n",
    "        \"start\" : s,\n",
    "        \"end\" : e,\n",
    "        \"description\": d,\n",
    "        \"summary\" : str(event['summary']),\n",
    "        \"attendees\" : get_emails(event)\n",
    "    }\n",
    "    \n",
    "    df = pd.DataFrame(data=dictionary, index=[0])\n",
    "    return df\n",
    "    "
   ]
  },
  {
   "cell_type": "markdown",
   "metadata": {},
   "source": [
    "Resulting dataframe ready for analysis:"
   ]
  },
  {
   "cell_type": "code",
   "execution_count": 110,
   "metadata": {},
   "outputs": [
    {
     "data": {
      "text/html": [
       "<div>\n",
       "<style scoped>\n",
       "    .dataframe tbody tr th:only-of-type {\n",
       "        vertical-align: middle;\n",
       "    }\n",
       "\n",
       "    .dataframe tbody tr th {\n",
       "        vertical-align: top;\n",
       "    }\n",
       "\n",
       "    .dataframe thead th {\n",
       "        text-align: right;\n",
       "    }\n",
       "</style>\n",
       "<table border=\"1\" class=\"dataframe\">\n",
       "  <thead>\n",
       "    <tr style=\"text-align: right;\">\n",
       "      <th></th>\n",
       "      <th>index</th>\n",
       "      <th>id</th>\n",
       "      <th>start</th>\n",
       "      <th>end</th>\n",
       "      <th>description</th>\n",
       "      <th>summary</th>\n",
       "      <th>attendees</th>\n",
       "    </tr>\n",
       "  </thead>\n",
       "  <tbody>\n",
       "    <tr>\n",
       "      <th>0</th>\n",
       "      <td>0</td>\n",
       "      <td>28t6j2868lfsgoiebp1krg8uuv</td>\n",
       "      <td>2018-12-20 08:00:00-06:00</td>\n",
       "      <td>2018-12-20 08:30:00-06:00</td>\n",
       "      <td>&lt;br&gt;&lt;b&gt;1. &lt;/b&gt;How are things going? :) Any que...</td>\n",
       "      <td>Joe &amp; Sarah Touch Base</td>\n",
       "      <td>['sowen@evolytics.com', 'jgruenbaum@evolytics....</td>\n",
       "    </tr>\n",
       "    <tr>\n",
       "      <th>1</th>\n",
       "      <td>0</td>\n",
       "      <td>3ff76qccgr5begjanc487bs9lp</td>\n",
       "      <td>2019-01-03 15:00:00-06:00</td>\n",
       "      <td>2019-01-03 16:00:00-06:00</td>\n",
       "      <td>\\nHey Joe,\\nJosh and I are conducting some use...</td>\n",
       "      <td>[Data Dojo] User Testing</td>\n",
       "      <td>['evolytics.com_36383832383530383839@resource....</td>\n",
       "    </tr>\n",
       "    <tr>\n",
       "      <th>2</th>\n",
       "      <td>0</td>\n",
       "      <td>1kkk1tno32as9t0cr9lqav3jjc</td>\n",
       "      <td>2019-01-07 13:00:00-06:00</td>\n",
       "      <td>2019-01-07 14:30:00-06:00</td>\n",
       "      <td>None</td>\n",
       "      <td>[data dojo] Onboarding</td>\n",
       "      <td>['jgruenbaum@evolytics.com', 'evermilyea@evoly...</td>\n",
       "    </tr>\n",
       "    <tr>\n",
       "      <th>3</th>\n",
       "      <td>0</td>\n",
       "      <td>6dum1v57a199hdeqi6u63btvee</td>\n",
       "      <td>2019-01-14 13:30:00-06:00</td>\n",
       "      <td>2019-01-14 14:30:00-06:00</td>\n",
       "      <td>None</td>\n",
       "      <td>[dojo] user dashboard progress</td>\n",
       "      <td>['jlehne@evolytics.com', 'evermilyea@evolytics...</td>\n",
       "    </tr>\n",
       "  </tbody>\n",
       "</table>\n",
       "</div>"
      ],
      "text/plain": [
       "   index                          id                     start  \\\n",
       "0      0  28t6j2868lfsgoiebp1krg8uuv 2018-12-20 08:00:00-06:00   \n",
       "1      0  3ff76qccgr5begjanc487bs9lp 2019-01-03 15:00:00-06:00   \n",
       "2      0  1kkk1tno32as9t0cr9lqav3jjc 2019-01-07 13:00:00-06:00   \n",
       "3      0  6dum1v57a199hdeqi6u63btvee 2019-01-14 13:30:00-06:00   \n",
       "\n",
       "                        end  \\\n",
       "0 2018-12-20 08:30:00-06:00   \n",
       "1 2019-01-03 16:00:00-06:00   \n",
       "2 2019-01-07 14:30:00-06:00   \n",
       "3 2019-01-14 14:30:00-06:00   \n",
       "\n",
       "                                         description  \\\n",
       "0  <br><b>1. </b>How are things going? :) Any que...   \n",
       "1  \\nHey Joe,\\nJosh and I are conducting some use...   \n",
       "2                                               None   \n",
       "3                                               None   \n",
       "\n",
       "                          summary  \\\n",
       "0          Joe & Sarah Touch Base   \n",
       "1        [Data Dojo] User Testing   \n",
       "2          [data dojo] Onboarding   \n",
       "3  [dojo] user dashboard progress   \n",
       "\n",
       "                                           attendees  \n",
       "0  ['sowen@evolytics.com', 'jgruenbaum@evolytics....  \n",
       "1  ['evolytics.com_36383832383530383839@resource....  \n",
       "2  ['jgruenbaum@evolytics.com', 'evermilyea@evoly...  \n",
       "3  ['jlehne@evolytics.com', 'evermilyea@evolytics...  "
      ]
     },
     "execution_count": 110,
     "metadata": {},
     "output_type": "execute_result"
    }
   ],
   "source": [
    "frames = []\n",
    "\n",
    "for event in events:\n",
    "    df = pandify(event)\n",
    "    frames.append(df)\n",
    "    \n",
    "frames = pd.concat(frames)\n",
    "\n",
    "frames.reset_index()"
   ]
  },
  {
   "cell_type": "code",
   "execution_count": null,
   "metadata": {},
   "outputs": [],
   "source": []
  }
 ],
 "metadata": {
  "kernelspec": {
   "display_name": "Python 3",
   "language": "python",
   "name": "python3"
  },
  "language_info": {
   "codemirror_mode": {
    "name": "ipython",
    "version": 3
   },
   "file_extension": ".py",
   "mimetype": "text/x-python",
   "name": "python",
   "nbconvert_exporter": "python",
   "pygments_lexer": "ipython3",
   "version": "3.7.1"
  }
 },
 "nbformat": 4,
 "nbformat_minor": 2
}
